{
  "nbformat": 4,
  "nbformat_minor": 0,
  "metadata": {
    "colab": {
      "name": "polynomial-regresson.ipynb",
      "provenance": []
    },
    "kernelspec": {
      "name": "python3",
      "display_name": "Python 3"
    }
  },
  "cells": [
    {
      "cell_type": "code",
      "metadata": {
        "id": "kT9n885HG1Wp",
        "colab_type": "code",
        "colab": {}
      },
      "source": [
        "import numpy as np\n",
        "import pandas as pd\n",
        "import matplotlib.pyplot as plt"
      ],
      "execution_count": 0,
      "outputs": []
    },
    {
      "cell_type": "code",
      "metadata": {
        "id": "PTxKxODZG-So",
        "colab_type": "code",
        "colab": {
          "base_uri": "https://localhost:8080/",
          "height": 228
        },
        "outputId": "21baad2a-fd0a-4dc4-f2a7-c5fdce58288e"
      },
      "source": [
        "!wget -O FuelConsumption.csv https://s3-api.us-geo.objectstorage.softlayer.net/cf-courses-data/CognitiveClass/ML0101ENv3/labs/FuelConsumptionCo2.csv"
      ],
      "execution_count": 2,
      "outputs": [
        {
          "output_type": "stream",
          "text": [
            "--2020-06-09 03:25:08--  https://s3-api.us-geo.objectstorage.softlayer.net/cf-courses-data/CognitiveClass/ML0101ENv3/labs/FuelConsumptionCo2.csv\n",
            "Resolving s3-api.us-geo.objectstorage.softlayer.net (s3-api.us-geo.objectstorage.softlayer.net)... 67.228.254.196\n",
            "Connecting to s3-api.us-geo.objectstorage.softlayer.net (s3-api.us-geo.objectstorage.softlayer.net)|67.228.254.196|:443... connected.\n",
            "HTTP request sent, awaiting response... 200 OK\n",
            "Length: 72629 (71K) [text/csv]\n",
            "Saving to: ‘FuelConsumption.csv’\n",
            "\n",
            "\rFuelConsumption.csv   0%[                    ]       0  --.-KB/s               \rFuelConsumption.csv 100%[===================>]  70.93K  --.-KB/s    in 0.03s   \n",
            "\n",
            "2020-06-09 03:25:08 (2.68 MB/s) - ‘FuelConsumption.csv’ saved [72629/72629]\n",
            "\n"
          ],
          "name": "stdout"
        }
      ]
    },
    {
      "cell_type": "code",
      "metadata": {
        "id": "WVf1OQIMHDDV",
        "colab_type": "code",
        "colab": {}
      },
      "source": [
        "data=pd.read_csv(\"FuelConsumption.csv\")\n",
        "data=data[['FUELCONSUMPTION_COMB_MPG','CO2EMISSIONS']]\n",
        "data.rename(columns={'FUELCONSUMPTION_COMB_MPG':'comubstion', 'CO2EMISSIONS':'emission'},inplace=True)"
      ],
      "execution_count": 0,
      "outputs": []
    },
    {
      "cell_type": "code",
      "metadata": {
        "id": "dyfFmFjiHJmY",
        "colab_type": "code",
        "colab": {
          "base_uri": "https://localhost:8080/",
          "height": 202
        },
        "outputId": "80d52b50-1d77-415c-863d-4f2e77890080"
      },
      "source": [
        "data.head()"
      ],
      "execution_count": 13,
      "outputs": [
        {
          "output_type": "execute_result",
          "data": {
            "text/html": [
              "<div>\n",
              "<style scoped>\n",
              "    .dataframe tbody tr th:only-of-type {\n",
              "        vertical-align: middle;\n",
              "    }\n",
              "\n",
              "    .dataframe tbody tr th {\n",
              "        vertical-align: top;\n",
              "    }\n",
              "\n",
              "    .dataframe thead th {\n",
              "        text-align: right;\n",
              "    }\n",
              "</style>\n",
              "<table border=\"1\" class=\"dataframe\">\n",
              "  <thead>\n",
              "    <tr style=\"text-align: right;\">\n",
              "      <th></th>\n",
              "      <th>comubstion</th>\n",
              "      <th>emission</th>\n",
              "    </tr>\n",
              "  </thead>\n",
              "  <tbody>\n",
              "    <tr>\n",
              "      <th>0</th>\n",
              "      <td>33</td>\n",
              "      <td>196</td>\n",
              "    </tr>\n",
              "    <tr>\n",
              "      <th>1</th>\n",
              "      <td>29</td>\n",
              "      <td>221</td>\n",
              "    </tr>\n",
              "    <tr>\n",
              "      <th>2</th>\n",
              "      <td>48</td>\n",
              "      <td>136</td>\n",
              "    </tr>\n",
              "    <tr>\n",
              "      <th>3</th>\n",
              "      <td>25</td>\n",
              "      <td>255</td>\n",
              "    </tr>\n",
              "    <tr>\n",
              "      <th>4</th>\n",
              "      <td>27</td>\n",
              "      <td>244</td>\n",
              "    </tr>\n",
              "  </tbody>\n",
              "</table>\n",
              "</div>"
            ],
            "text/plain": [
              "   comubstion  emission\n",
              "0          33       196\n",
              "1          29       221\n",
              "2          48       136\n",
              "3          25       255\n",
              "4          27       244"
            ]
          },
          "metadata": {
            "tags": []
          },
          "execution_count": 13
        }
      ]
    },
    {
      "cell_type": "code",
      "metadata": {
        "id": "nqYtqP8RJAgX",
        "colab_type": "code",
        "colab": {
          "base_uri": "https://localhost:8080/",
          "height": 35
        },
        "outputId": "272e3261-3b1e-4872-f22b-21326b3c9bec"
      },
      "source": [
        "data.shape"
      ],
      "execution_count": 16,
      "outputs": [
        {
          "output_type": "execute_result",
          "data": {
            "text/plain": [
              "(1067, 2)"
            ]
          },
          "metadata": {
            "tags": []
          },
          "execution_count": 16
        }
      ]
    },
    {
      "cell_type": "code",
      "metadata": {
        "id": "Ds9iGjUoHrYh",
        "colab_type": "code",
        "colab": {
          "base_uri": "https://localhost:8080/",
          "height": 283
        },
        "outputId": "91a21568-7020-4f35-a2b1-12b9e83129fc"
      },
      "source": [
        "plt.scatter(data.comubstion,data.emission)"
      ],
      "execution_count": 15,
      "outputs": [
        {
          "output_type": "execute_result",
          "data": {
            "text/plain": [
              "<matplotlib.collections.PathCollection at 0x7ff6eef249b0>"
            ]
          },
          "metadata": {
            "tags": []
          },
          "execution_count": 15
        },
        {
          "output_type": "display_data",
          "data": {
            "image/png": "[encoded data removed]",
            "text/plain": [
              "<Figure size 432x288 with 1 Axes>"
            ]
          },
          "metadata": {
            "tags": [],
            "needs_background": "light"
          }
        }
      ]
    },
    {
      "cell_type": "code",
      "metadata": {
        "id": "6YdHvQ-9Iqyl",
        "colab_type": "code",
        "colab": {}
      },
      "source": [
        "X=data.iloc[:,0:1].values\n",
        "y=data.iloc[:,-1].values"
      ],
      "execution_count": 0,
      "outputs": []
    },
    {
      "cell_type": "code",
      "metadata": {
        "id": "SiXPBtZXQCmU",
        "colab_type": "code",
        "colab": {}
      },
      "source": [
        "from sklearn.model_selection import train_test_split\n",
        "X_train,X_test,y_train,y_test=train_test_split(X,y,test_size=0.2,random_state=0)"
      ],
      "execution_count": 0,
      "outputs": []
    },
    {
      "cell_type": "code",
      "metadata": {
        "id": "RXFUbMpOQOY-",
        "colab_type": "code",
        "colab": {}
      },
      "source": [
        "from sklearn.linear_model import LinearRegression\n",
        "L=LinearRegression()"
      ],
      "execution_count": 0,
      "outputs": []
    },
    {
      "cell_type": "code",
      "metadata": {
        "id": "AJ2dcfA_Qmcr",
        "colab_type": "code",
        "colab": {
          "base_uri": "https://localhost:8080/",
          "height": 35
        },
        "outputId": "269af76b-9c04-4893-bfae-59b784dfd913"
      },
      "source": [
        "L.fit(X_train,y_train)"
      ],
      "execution_count": 85,
      "outputs": [
        {
          "output_type": "execute_result",
          "data": {
            "text/plain": [
              "LinearRegression(copy_X=True, fit_intercept=True, n_jobs=None, normalize=False)"
            ]
          },
          "metadata": {
            "tags": []
          },
          "execution_count": 85
        }
      ]
    },
    {
      "cell_type": "code",
      "metadata": {
        "id": "3zi7RL-SQ42k",
        "colab_type": "code",
        "colab": {}
      },
      "source": [
        "y_pred=L.predict(X_test)"
      ],
      "execution_count": 0,
      "outputs": []
    },
    {
      "cell_type": "code",
      "metadata": {
        "id": "u3tBdwQFQ_88",
        "colab_type": "code",
        "colab": {
          "base_uri": "https://localhost:8080/",
          "height": 52
        },
        "outputId": "2e9c6c65-fcaf-4b30-ee13-e09a6b2b27f1"
      },
      "source": [
        "from sklearn.metrics import r2_score,mean_squared_error\n",
        "\n",
        "print(\"R2 score\",r2_score(y_test,y_pred))\n",
        "print(\"RMSE\",np.sqrt(mean_squared_error(y_test,y_pred)))"
      ],
      "execution_count": 87,
      "outputs": [
        {
          "output_type": "stream",
          "text": [
            "R2 score 0.8261445883060663\n",
            "RMSE 27.0911073218799\n"
          ],
          "name": "stdout"
        }
      ]
    },
    {
      "cell_type": "code",
      "metadata": {
        "id": "19A9hDZ0QyQl",
        "colab_type": "code",
        "colab": {
          "base_uri": "https://localhost:8080/",
          "height": 265
        },
        "outputId": "b38065da-5775-4042-f46a-a31276be0889"
      },
      "source": [
        "plt.plot(X_test,L.predict(X_test),label=\"Modal\")\n",
        "plt.scatter(X_train,y_train,label=\"data\", color=\"r\")\n",
        "plt.legend()\n",
        "plt.show()"
      ],
      "execution_count": 26,
      "outputs": [
        {
          "output_type": "display_data",
          "data": {
            "image/png": "[encoded data removed]",
            "text/plain": [
              "<Figure size 432x288 with 1 Axes>"
            ]
          },
          "metadata": {
            "tags": [],
            "needs_background": "light"
          }
        }
      ]
    },
    {
      "cell_type": "markdown",
      "metadata": {
        "id": "n-jDy_5iSBMY",
        "colab_type": "text"
      },
      "source": [
        "Polynomial Regression"
      ]
    },
    {
      "cell_type": "code",
      "metadata": {
        "id": "ZqosvlejSHK4",
        "colab_type": "code",
        "colab": {}
      },
      "source": [
        "from sklearn.preprocessing import PolynomialFeatures\n",
        "poly = PolynomialFeatures(degree=10)"
      ],
      "execution_count": 0,
      "outputs": []
    },
    {
      "cell_type": "code",
      "metadata": {
        "id": "0YVAGMmFSaeV",
        "colab_type": "code",
        "colab": {
          "base_uri": "https://localhost:8080/",
          "height": 260
        },
        "outputId": "68254c8e-dbe9-4762-d493-30ca5ff7d196"
      },
      "source": [
        "X_poly = poly.fit_transform(X_train)\n",
        "print(X_poly.shape)\n",
        "X_poly"
      ],
      "execution_count": 102,
      "outputs": [
        {
          "output_type": "stream",
          "text": [
            "(853, 11)\n"
          ],
          "name": "stdout"
        },
        {
          "output_type": "execute_result",
          "data": {
            "text/plain": [
              "array([[1.00000000e+00, 2.20000000e+01, 4.84000000e+02, ...,\n",
              "        5.48758735e+10, 1.20726922e+12, 2.65599228e+13],\n",
              "       [1.00000000e+00, 1.90000000e+01, 3.61000000e+02, ...,\n",
              "        1.69835630e+10, 3.22687698e+11, 6.13106626e+12],\n",
              "       [1.00000000e+00, 2.70000000e+01, 7.29000000e+02, ...,\n",
              "        2.82429536e+11, 7.62559748e+12, 2.05891132e+14],\n",
              "       ...,\n",
              "       [1.00000000e+00, 2.40000000e+01, 5.76000000e+02, ...,\n",
              "        1.10075314e+11, 2.64180754e+12, 6.34033810e+13],\n",
              "       [1.00000000e+00, 2.10000000e+01, 4.41000000e+02, ...,\n",
              "        3.78228594e+10, 7.94280047e+11, 1.66798810e+13],\n",
              "       [1.00000000e+00, 2.50000000e+01, 6.25000000e+02, ...,\n",
              "        1.52587891e+11, 3.81469727e+12, 9.53674316e+13]])"
            ]
          },
          "metadata": {
            "tags": []
          },
          "execution_count": 102
        }
      ]
    },
    {
      "cell_type": "code",
      "metadata": {
        "id": "w2OSNFleSpum",
        "colab_type": "code",
        "colab": {
          "base_uri": "https://localhost:8080/",
          "height": 35
        },
        "outputId": "537e45f2-d85b-4887-a039-449a820a03f6"
      },
      "source": [
        "L1 = LinearRegression()\n",
        "L1.fit(X_poly,y_train)"
      ],
      "execution_count": 103,
      "outputs": [
        {
          "output_type": "execute_result",
          "data": {
            "text/plain": [
              "LinearRegression(copy_X=True, fit_intercept=True, n_jobs=None, normalize=False)"
            ]
          },
          "metadata": {
            "tags": []
          },
          "execution_count": 103
        }
      ]
    },
    {
      "cell_type": "code",
      "metadata": {
        "id": "PGsnT0v7S1X2",
        "colab_type": "code",
        "colab": {}
      },
      "source": [
        "X_test_poly =poly.fit_transform(X_test)"
      ],
      "execution_count": 0,
      "outputs": []
    },
    {
      "cell_type": "code",
      "metadata": {
        "id": "a_HD94nDTGgL",
        "colab_type": "code",
        "colab": {}
      },
      "source": [
        "y_pred=L1.predict(X_test_poly)"
      ],
      "execution_count": 0,
      "outputs": []
    },
    {
      "cell_type": "code",
      "metadata": {
        "id": "0kenaVqfTLhg",
        "colab_type": "code",
        "colab": {
          "base_uri": "https://localhost:8080/",
          "height": 52
        },
        "outputId": "9a191353-30ea-4c7e-beb6-35a00cbc9fc8"
      },
      "source": [
        "print(\"R2 score\",r2_score(y_test,y_pred))\n",
        "print(\"MSE\",np.sqrt(mean_squared_error(y_test,y_pred)))"
      ],
      "execution_count": 106,
      "outputs": [
        {
          "output_type": "stream",
          "text": [
            "R2 score 0.8952659700388189\n",
            "MSE 21.026963324426458\n"
          ],
          "name": "stdout"
        }
      ]
    },
    {
      "cell_type": "code",
      "metadata": {
        "id": "L8EkJFhMTRp4",
        "colab_type": "code",
        "colab": {
          "base_uri": "https://localhost:8080/",
          "height": 266
        },
        "outputId": "9e7e2f7e-94c2-4ee6-845c-303b04ebba58"
      },
      "source": [
        "plt.scatter(X_test,y_pred, label=\"Model\",color='red')\n",
        "plt.scatter(X_train, y_train, label=\"data\", marker='+',color='green')\n",
        "#plt.scatter(X,y,label=\"Training data\")\n",
        "plt.legend()\n",
        "plt.show()"
      ],
      "execution_count": 107,
      "outputs": [
        {
          "output_type": "display_data",
          "data": {
            "image/png": "[encoded data removed]",
            "text/plain": [
              "<Figure size 432x288 with 1 Axes>"
            ]
          },
          "metadata": {
            "tags": [],
            "needs_background": "light"
          }
        }
      ]
    },
    {
      "cell_type": "code",
      "metadata": {
        "id": "aKFjacZWVEAa",
        "colab_type": "code",
        "colab": {}
      },
      "source": [
        "def polynomialRegression(X,y,k=14):\n",
        "\n",
        "  X_train, X_test, y_train, y_test = train_test_split(X,y, test_size=0.2)\n",
        "\n",
        "  poly = PolynomialFeatures(degree=k)\n",
        "  X_poly = poly.fit_transform(X_train)\n",
        "  lr = LinearRegression()\n",
        "  lr.fit(X_poly,y_train)\n",
        "  \n",
        "  X_test_poly =poly.fit_transform(X_test)\n",
        "  y_pred=lr.predict(X_test_poly)\n",
        "\n",
        "  training_score = r2_score(y_train, lr.predict(X_poly))\n",
        "  test_score = r2_score(y_test,y_pred)\n",
        "  \n",
        "  return training_score, test_score"
      ],
      "execution_count": 0,
      "outputs": []
    },
    {
      "cell_type": "code",
      "metadata": {
        "id": "CYxkNe6aTfSM",
        "colab_type": "code",
        "colab": {
          "base_uri": "https://localhost:8080/",
          "height": 295
        },
        "outputId": "b849fd1c-381a-4c93-c138-62ea55fade5f"
      },
      "source": [
        "train=[]\n",
        "test=[]\n",
        "for i in range(1,20):\n",
        "  r2train,r2test=polynomialRegression(X,y,k=i)\n",
        "  train.append(r2train)\n",
        "  test.append(r2test)\n",
        "x=np.arange(19)+1\n",
        "plt.plot(x,train,label=\"Training\")\n",
        "plt.plot(x,test,label=\"Test\")\n",
        "plt.legend()\n",
        "plt.xlabel(\"Degree\")\n",
        "plt.ylabel(\"r2-Score\")\n",
        "# plt.xlim((1, 15))\n",
        "# plt.ylim((-3, 2))\n",
        "plt.title(\"R2-Score\");\n",
        "plt.show()"
      ],
      "execution_count": 73,
      "outputs": [
        {
          "output_type": "display_data",
          "data": {
            "image/png": "[encoded data removed]",
            "text/plain": [
              "<Figure size 432x288 with 1 Axes>"
            ]
          },
          "metadata": {
            "tags": [],
            "needs_background": "light"
          }
        }
      ]
    },
    {
      "cell_type": "code",
      "metadata": {
        "id": "kuW5anXQViN2",
        "colab_type": "code",
        "colab": {}
      },
      "source": [
        ""
      ],
      "execution_count": 0,
      "outputs": []
    }
  ]
}